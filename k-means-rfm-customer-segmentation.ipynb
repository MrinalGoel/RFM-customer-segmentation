{
 "cells": [
  {
   "cell_type": "code",
   "execution_count": 1,
   "id": "b85b0005",
   "metadata": {
    "_cell_guid": "b1076dfc-b9ad-4769-8c92-a6c4dae69d19",
    "_uuid": "8f2839f25d086af736a60e9eeb907d3b93b6e0e5",
    "execution": {
     "iopub.execute_input": "2023-11-28T07:25:58.616660Z",
     "iopub.status.busy": "2023-11-28T07:25:58.616163Z",
     "iopub.status.idle": "2023-11-28T07:26:00.836856Z",
     "shell.execute_reply": "2023-11-28T07:26:00.834550Z"
    },
    "papermill": {
     "duration": 2.240988,
     "end_time": "2023-11-28T07:26:00.840175",
     "exception": false,
     "start_time": "2023-11-28T07:25:58.599187",
     "status": "completed"
    },
    "tags": []
   },
   "outputs": [
    {
     "name": "stdout",
     "output_type": "stream",
     "text": [
      "/kaggle/input/ecommerce-data/data.csv\n"
     ]
    }
   ],
   "source": [
    "# This Python 3 environment comes with many helpful analytics libraries installed\n",
    "# It is defined by the kaggle/python Docker image: https://github.com/kaggle/docker-python\n",
    "# For example, here's several helpful packages to load\n",
    "\n",
    "import numpy as np # linear algebra\n",
    "import pandas as pd # data processing, CSV file I/O (e.g. pd.read_csv)\n",
    "import seaborn as sns\n",
    "import matplotlib.pyplot as plt\n",
    "# Input data files are available in the read-only \"../input/\" directory\n",
    "# For example, running this (by clicking run or pressing Shift+Enter) will list all files under the input directory\n",
    "\n",
    "import os\n",
    "for dirname, _, filenames in os.walk('/kaggle/input'):\n",
    "    for filename in filenames:\n",
    "        print(os.path.join(dirname, filename))\n",
    "\n",
    "# You can write up to 20GB to the current directory (/kaggle/working/) that gets preserved as output when you create a version using \"Save & Run All\" \n",
    "# You can also write temporary files to /kaggle/temp/, but they won't be saved outside of the current session"
   ]
  },
  {
   "cell_type": "markdown",
   "id": "bdcabb7c",
   "metadata": {
    "papermill": {
     "duration": 0.014415,
     "end_time": "2023-11-28T07:26:00.868485",
     "exception": false,
     "start_time": "2023-11-28T07:26:00.854070",
     "status": "completed"
    },
    "tags": []
   },
   "source": [
    "### Table of contents - \n",
    "* [Introduction to RFM Customer Segmentation](#Intro)\n",
    "* [EDA 🔨](#wrangle)\n",
    "* [Recency ⏳](#recency)\n",
    "* [Frequency⏱ ](#frequency)\n",
    "* [Monetary value 💰](#monetary)\n",
    "* [Deep dive 🏊‍](#deep-dive)\n",
    "* [Outlier detection and capping using IQR 🧢](#outlier)\n",
    "* [Feature Scaling - Standardization⚖️](#scaling)\n",
    "* [Elbow Method](#elbow)\n",
    "* [Building,Predicting,Accuracy - KMeans](#model)\n",
    "* [Visualising the clusters](#cluster)"
   ]
  },
  {
   "cell_type": "markdown",
   "id": "b41fd287",
   "metadata": {
    "papermill": {
     "duration": 0.013961,
     "end_time": "2023-11-28T07:26:00.896058",
     "exception": false,
     "start_time": "2023-11-28T07:26:00.882097",
     "status": "completed"
    },
    "tags": []
   },
   "source": [
    "### Introduction to RFM Customer segmentation <a class=\"anchor\"  id=\"Intro\"></a>\n",
    "\n",
    "RFM is a common business analysis tool that is often used to segment the customers based on Recency (How recent was the customer's purchase?) , Frequency (How frequently does the customer purchase from us?) and Monetary value (How much money does the customer spend?)\n",
    "\n",
    "Through the RFM attributes, we can distingush customers displaying similar purchase trends and group them into one cluster. Later, the company can use different marketing/promotions to target these clusters based on the customer's purchasing pattern and behaviour. \n",
    "\n",
    "For example, if there is a segment of customers that have a high frequency of purchase with us, we could offer them loyalty points. We could also send nudges of our sales/offers to our thrifty customer segment that prefer shopping during sales. "
   ]
  },
  {
   "cell_type": "markdown",
   "id": "33fb8871",
   "metadata": {
    "papermill": {
     "duration": 0.013088,
     "end_time": "2023-11-28T07:26:00.922933",
     "exception": false,
     "start_time": "2023-11-28T07:26:00.909845",
     "status": "completed"
    },
    "tags": []
   },
   "source": [
    "### EDA <a class=\"anchor\"  id=\"wrangle\"></a>"
   ]
  },
  {
   "cell_type": "code",
   "execution_count": 2,
   "id": "d1db6768",
   "metadata": {
    "execution": {
     "iopub.execute_input": "2023-11-28T07:26:00.956396Z",
     "iopub.status.busy": "2023-11-28T07:26:00.955434Z",
     "iopub.status.idle": "2023-11-28T07:26:02.871606Z",
     "shell.execute_reply": "2023-11-28T07:26:02.870080Z"
    },
    "papermill": {
     "duration": 1.936594,
     "end_time": "2023-11-28T07:26:02.874827",
     "exception": false,
     "start_time": "2023-11-28T07:26:00.938233",
     "status": "completed"
    },
    "tags": []
   },
   "outputs": [
    {
     "data": {
      "text/html": [
       "<div>\n",
       "<style scoped>\n",
       "    .dataframe tbody tr th:only-of-type {\n",
       "        vertical-align: middle;\n",
       "    }\n",
       "\n",
       "    .dataframe tbody tr th {\n",
       "        vertical-align: top;\n",
       "    }\n",
       "\n",
       "    .dataframe thead th {\n",
       "        text-align: right;\n",
       "    }\n",
       "</style>\n",
       "<table border=\"1\" class=\"dataframe\">\n",
       "  <thead>\n",
       "    <tr style=\"text-align: right;\">\n",
       "      <th></th>\n",
       "      <th>InvoiceNo</th>\n",
       "      <th>StockCode</th>\n",
       "      <th>Description</th>\n",
       "      <th>Quantity</th>\n",
       "      <th>InvoiceDate</th>\n",
       "      <th>UnitPrice</th>\n",
       "      <th>CustomerID</th>\n",
       "      <th>Country</th>\n",
       "    </tr>\n",
       "  </thead>\n",
       "  <tbody>\n",
       "    <tr>\n",
       "      <th>0</th>\n",
       "      <td>536365</td>\n",
       "      <td>85123A</td>\n",
       "      <td>WHITE HANGING HEART T-LIGHT HOLDER</td>\n",
       "      <td>6</td>\n",
       "      <td>12/1/2010 8:26</td>\n",
       "      <td>2.55</td>\n",
       "      <td>17850.0</td>\n",
       "      <td>United Kingdom</td>\n",
       "    </tr>\n",
       "    <tr>\n",
       "      <th>1</th>\n",
       "      <td>536365</td>\n",
       "      <td>71053</td>\n",
       "      <td>WHITE METAL LANTERN</td>\n",
       "      <td>6</td>\n",
       "      <td>12/1/2010 8:26</td>\n",
       "      <td>3.39</td>\n",
       "      <td>17850.0</td>\n",
       "      <td>United Kingdom</td>\n",
       "    </tr>\n",
       "    <tr>\n",
       "      <th>2</th>\n",
       "      <td>536365</td>\n",
       "      <td>84406B</td>\n",
       "      <td>CREAM CUPID HEARTS COAT HANGER</td>\n",
       "      <td>8</td>\n",
       "      <td>12/1/2010 8:26</td>\n",
       "      <td>2.75</td>\n",
       "      <td>17850.0</td>\n",
       "      <td>United Kingdom</td>\n",
       "    </tr>\n",
       "    <tr>\n",
       "      <th>3</th>\n",
       "      <td>536365</td>\n",
       "      <td>84029G</td>\n",
       "      <td>KNITTED UNION FLAG HOT WATER BOTTLE</td>\n",
       "      <td>6</td>\n",
       "      <td>12/1/2010 8:26</td>\n",
       "      <td>3.39</td>\n",
       "      <td>17850.0</td>\n",
       "      <td>United Kingdom</td>\n",
       "    </tr>\n",
       "    <tr>\n",
       "      <th>4</th>\n",
       "      <td>536365</td>\n",
       "      <td>84029E</td>\n",
       "      <td>RED WOOLLY HOTTIE WHITE HEART.</td>\n",
       "      <td>6</td>\n",
       "      <td>12/1/2010 8:26</td>\n",
       "      <td>3.39</td>\n",
       "      <td>17850.0</td>\n",
       "      <td>United Kingdom</td>\n",
       "    </tr>\n",
       "  </tbody>\n",
       "</table>\n",
       "</div>"
      ],
      "text/plain": [
       "  InvoiceNo StockCode                          Description  Quantity  \\\n",
       "0    536365    85123A   WHITE HANGING HEART T-LIGHT HOLDER         6   \n",
       "1    536365     71053                  WHITE METAL LANTERN         6   \n",
       "2    536365    84406B       CREAM CUPID HEARTS COAT HANGER         8   \n",
       "3    536365    84029G  KNITTED UNION FLAG HOT WATER BOTTLE         6   \n",
       "4    536365    84029E       RED WOOLLY HOTTIE WHITE HEART.         6   \n",
       "\n",
       "      InvoiceDate  UnitPrice  CustomerID         Country  \n",
       "0  12/1/2010 8:26       2.55     17850.0  United Kingdom  \n",
       "1  12/1/2010 8:26       3.39     17850.0  United Kingdom  \n",
       "2  12/1/2010 8:26       2.75     17850.0  United Kingdom  \n",
       "3  12/1/2010 8:26       3.39     17850.0  United Kingdom  \n",
       "4  12/1/2010 8:26       3.39     17850.0  United Kingdom  "
      ]
     },
     "execution_count": 2,
     "metadata": {},
     "output_type": "execute_result"
    }
   ],
   "source": [
    "df = pd.read_csv('/kaggle/input/ecommerce-data/data.csv',encoding='unicode_escape')\n",
    "df.head()"
   ]
  },
  {
   "cell_type": "code",
   "execution_count": 3,
   "id": "de3c588a",
   "metadata": {
    "execution": {
     "iopub.execute_input": "2023-11-28T07:26:02.907629Z",
     "iopub.status.busy": "2023-11-28T07:26:02.907116Z",
     "iopub.status.idle": "2023-11-28T07:26:02.991470Z",
     "shell.execute_reply": "2023-11-28T07:26:02.989675Z"
    },
    "papermill": {
     "duration": 0.105189,
     "end_time": "2023-11-28T07:26:02.995015",
     "exception": false,
     "start_time": "2023-11-28T07:26:02.889826",
     "status": "completed"
    },
    "tags": []
   },
   "outputs": [],
   "source": [
    "# Dropping the rows that have unit price and Quantity as negative. \n",
    "df = df[(df['UnitPrice']> 0) & (df['Quantity']>0)]"
   ]
  },
  {
   "cell_type": "code",
   "execution_count": 4,
   "id": "5ac9e943",
   "metadata": {
    "execution": {
     "iopub.execute_input": "2023-11-28T07:26:03.031467Z",
     "iopub.status.busy": "2023-11-28T07:26:03.030656Z",
     "iopub.status.idle": "2023-11-28T07:26:03.200013Z",
     "shell.execute_reply": "2023-11-28T07:26:03.197751Z"
    },
    "papermill": {
     "duration": 0.193187,
     "end_time": "2023-11-28T07:26:03.203217",
     "exception": false,
     "start_time": "2023-11-28T07:26:03.010030",
     "status": "completed"
    },
    "tags": []
   },
   "outputs": [],
   "source": [
    "#Change data type of InvoiceDate to DateTime\n",
    "df['InvoiceDate']= pd.to_datetime(df['InvoiceDate'])"
   ]
  },
  {
   "cell_type": "code",
   "execution_count": 5,
   "id": "e4fe0a10",
   "metadata": {
    "execution": {
     "iopub.execute_input": "2023-11-28T07:26:03.237900Z",
     "iopub.status.busy": "2023-11-28T07:26:03.237388Z",
     "iopub.status.idle": "2023-11-28T07:26:03.709820Z",
     "shell.execute_reply": "2023-11-28T07:26:03.708028Z"
    },
    "papermill": {
     "duration": 0.494293,
     "end_time": "2023-11-28T07:26:03.713718",
     "exception": false,
     "start_time": "2023-11-28T07:26:03.219425",
     "status": "completed"
    },
    "tags": []
   },
   "outputs": [],
   "source": [
    "#Dropping the duplicate rows\n",
    "df = df.drop_duplicates()"
   ]
  },
  {
   "cell_type": "code",
   "execution_count": 6,
   "id": "2ae59b48",
   "metadata": {
    "execution": {
     "iopub.execute_input": "2023-11-28T07:26:03.748442Z",
     "iopub.status.busy": "2023-11-28T07:26:03.746712Z",
     "iopub.status.idle": "2023-11-28T07:26:03.908891Z",
     "shell.execute_reply": "2023-11-28T07:26:03.907573Z"
    },
    "papermill": {
     "duration": 0.182752,
     "end_time": "2023-11-28T07:26:03.911543",
     "exception": false,
     "start_time": "2023-11-28T07:26:03.728791",
     "status": "completed"
    },
    "tags": []
   },
   "outputs": [
    {
     "data": {
      "text/html": [
       "<div>\n",
       "<style scoped>\n",
       "    .dataframe tbody tr th:only-of-type {\n",
       "        vertical-align: middle;\n",
       "    }\n",
       "\n",
       "    .dataframe tbody tr th {\n",
       "        vertical-align: top;\n",
       "    }\n",
       "\n",
       "    .dataframe thead th {\n",
       "        text-align: right;\n",
       "    }\n",
       "</style>\n",
       "<table border=\"1\" class=\"dataframe\">\n",
       "  <thead>\n",
       "    <tr style=\"text-align: right;\">\n",
       "      <th></th>\n",
       "      <th>Quantity</th>\n",
       "      <th>InvoiceDate</th>\n",
       "      <th>UnitPrice</th>\n",
       "      <th>CustomerID</th>\n",
       "    </tr>\n",
       "  </thead>\n",
       "  <tbody>\n",
       "    <tr>\n",
       "      <th>count</th>\n",
       "      <td>524878.000000</td>\n",
       "      <td>524878</td>\n",
       "      <td>524878.000000</td>\n",
       "      <td>392692.000000</td>\n",
       "    </tr>\n",
       "    <tr>\n",
       "      <th>mean</th>\n",
       "      <td>10.616600</td>\n",
       "      <td>2011-07-04 15:30:16.317049088</td>\n",
       "      <td>3.922573</td>\n",
       "      <td>15287.843865</td>\n",
       "    </tr>\n",
       "    <tr>\n",
       "      <th>min</th>\n",
       "      <td>1.000000</td>\n",
       "      <td>2010-12-01 08:26:00</td>\n",
       "      <td>0.001000</td>\n",
       "      <td>12346.000000</td>\n",
       "    </tr>\n",
       "    <tr>\n",
       "      <th>25%</th>\n",
       "      <td>1.000000</td>\n",
       "      <td>2011-03-28 12:13:00</td>\n",
       "      <td>1.250000</td>\n",
       "      <td>13955.000000</td>\n",
       "    </tr>\n",
       "    <tr>\n",
       "      <th>50%</th>\n",
       "      <td>4.000000</td>\n",
       "      <td>2011-07-20 11:22:00</td>\n",
       "      <td>2.080000</td>\n",
       "      <td>15150.000000</td>\n",
       "    </tr>\n",
       "    <tr>\n",
       "      <th>75%</th>\n",
       "      <td>11.000000</td>\n",
       "      <td>2011-10-19 11:41:00</td>\n",
       "      <td>4.130000</td>\n",
       "      <td>16791.000000</td>\n",
       "    </tr>\n",
       "    <tr>\n",
       "      <th>max</th>\n",
       "      <td>80995.000000</td>\n",
       "      <td>2011-12-09 12:50:00</td>\n",
       "      <td>13541.330000</td>\n",
       "      <td>18287.000000</td>\n",
       "    </tr>\n",
       "    <tr>\n",
       "      <th>std</th>\n",
       "      <td>156.280031</td>\n",
       "      <td>NaN</td>\n",
       "      <td>36.093028</td>\n",
       "      <td>1713.539549</td>\n",
       "    </tr>\n",
       "  </tbody>\n",
       "</table>\n",
       "</div>"
      ],
      "text/plain": [
       "            Quantity                    InvoiceDate      UnitPrice  \\\n",
       "count  524878.000000                         524878  524878.000000   \n",
       "mean       10.616600  2011-07-04 15:30:16.317049088       3.922573   \n",
       "min         1.000000            2010-12-01 08:26:00       0.001000   \n",
       "25%         1.000000            2011-03-28 12:13:00       1.250000   \n",
       "50%         4.000000            2011-07-20 11:22:00       2.080000   \n",
       "75%        11.000000            2011-10-19 11:41:00       4.130000   \n",
       "max     80995.000000            2011-12-09 12:50:00   13541.330000   \n",
       "std       156.280031                            NaN      36.093028   \n",
       "\n",
       "          CustomerID  \n",
       "count  392692.000000  \n",
       "mean    15287.843865  \n",
       "min     12346.000000  \n",
       "25%     13955.000000  \n",
       "50%     15150.000000  \n",
       "75%     16791.000000  \n",
       "max     18287.000000  \n",
       "std      1713.539549  "
      ]
     },
     "execution_count": 6,
     "metadata": {},
     "output_type": "execute_result"
    }
   ],
   "source": [
    "df.describe()"
   ]
  },
  {
   "cell_type": "markdown",
   "id": "c5a691d5",
   "metadata": {
    "papermill": {
     "duration": 0.015092,
     "end_time": "2023-11-28T07:26:03.941501",
     "exception": false,
     "start_time": "2023-11-28T07:26:03.926409",
     "status": "completed"
    },
    "tags": []
   },
   "source": [
    "### Recency <a class=\"anchor\"  id=\"recency\"></a>\n",
    "\n",
    "While conducting an analysis on our customer base we would be interested in understanding how recent a customer's purchase with us was and this attribute is termed as Recency. It is usually calculated based on a reference date."
   ]
  },
  {
   "cell_type": "code",
   "execution_count": 7,
   "id": "53969714",
   "metadata": {
    "execution": {
     "iopub.execute_input": "2023-11-28T07:26:03.979869Z",
     "iopub.status.busy": "2023-11-28T07:26:03.978960Z",
     "iopub.status.idle": "2023-11-28T07:26:05.239505Z",
     "shell.execute_reply": "2023-11-28T07:26:05.237656Z"
    },
    "papermill": {
     "duration": 1.285969,
     "end_time": "2023-11-28T07:26:05.242774",
     "exception": false,
     "start_time": "2023-11-28T07:26:03.956805",
     "status": "completed"
    },
    "tags": []
   },
   "outputs": [
    {
     "data": {
      "text/plain": [
       "Timestamp('2011-12-09 12:50:00')"
      ]
     },
     "execution_count": 7,
     "metadata": {},
     "output_type": "execute_result"
    }
   ],
   "source": [
    "#Let us set the reference date as the most recent purchase date\n",
    "most_recent_purchase = max(df['InvoiceDate'])\n",
    "most_recent_purchase"
   ]
  },
  {
   "cell_type": "code",
   "execution_count": 8,
   "id": "84ab050b",
   "metadata": {
    "execution": {
     "iopub.execute_input": "2023-11-28T07:26:05.344670Z",
     "iopub.status.busy": "2023-11-28T07:26:05.343396Z",
     "iopub.status.idle": "2023-11-28T07:26:07.919317Z",
     "shell.execute_reply": "2023-11-28T07:26:07.917793Z"
    },
    "papermill": {
     "duration": 2.665454,
     "end_time": "2023-11-28T07:26:07.922423",
     "exception": false,
     "start_time": "2023-11-28T07:26:05.256969",
     "status": "completed"
    },
    "tags": []
   },
   "outputs": [],
   "source": [
    "#Calculating Recency for each purchase\n",
    "df['Recency'] = df['InvoiceDate'].apply(lambda row: (most_recent_purchase - row).days)"
   ]
  },
  {
   "cell_type": "markdown",
   "id": "2c044bfd",
   "metadata": {
    "papermill": {
     "duration": 0.016014,
     "end_time": "2023-11-28T07:26:07.954505",
     "exception": false,
     "start_time": "2023-11-28T07:26:07.938491",
     "status": "completed"
    },
    "tags": []
   },
   "source": [
    "Since a customer might have multiple purchases, we will now associate each customer with a single recency based on their most recent purchase and also visualise the distribution."
   ]
  },
  {
   "cell_type": "code",
   "execution_count": 9,
   "id": "dd42c57b",
   "metadata": {
    "execution": {
     "iopub.execute_input": "2023-11-28T07:26:07.987600Z",
     "iopub.status.busy": "2023-11-28T07:26:07.987149Z",
     "iopub.status.idle": "2023-11-28T07:26:08.497357Z",
     "shell.execute_reply": "2023-11-28T07:26:08.496094Z"
    },
    "papermill": {
     "duration": 0.529428,
     "end_time": "2023-11-28T07:26:08.500391",
     "exception": false,
     "start_time": "2023-11-28T07:26:07.970963",
     "status": "completed"
    },
    "tags": []
   },
   "outputs": [
    {
     "data": {
      "text/plain": [
       "<seaborn.axisgrid.FacetGrid at 0x7fe883d8e680>"
      ]
     },
     "execution_count": 9,
     "metadata": {},
     "output_type": "execute_result"
    },
    {
     "data": {
      "image/png": "[encoded data removed]",
      "text/plain": [
       "<Figure size 500x500 with 1 Axes>"
      ]
     },
     "metadata": {},
     "output_type": "display_data"
    }
   ],
   "source": [
    "df_recent = df.groupby('CustomerID')['Recency'].min()\n",
    "sns.displot(df_recent,bins=8)"
   ]
  },
  {
   "cell_type": "markdown",
   "id": "14d59463",
   "metadata": {
    "papermill": {
     "duration": 0.014811,
     "end_time": "2023-11-28T07:26:08.530648",
     "exception": false,
     "start_time": "2023-11-28T07:26:08.515837",
     "status": "completed"
    },
    "tags": []
   },
   "source": [
    "Based on the distribution it looks like a good number of our customers have recently made a purchase with us. More than 2000 customers have made a purchase in the last 1.5 ish months from the reference date."
   ]
  },
  {
   "cell_type": "markdown",
   "id": "9b8cf78e",
   "metadata": {
    "papermill": {
     "duration": 0.017036,
     "end_time": "2023-11-28T07:26:08.563466",
     "exception": false,
     "start_time": "2023-11-28T07:26:08.546430",
     "status": "completed"
    },
    "tags": []
   },
   "source": [
    "### Frequency <a class=\"anchor\"  id=\"frequency\"></a>\n",
    "\n",
    "Another key attribute is how frequently a customer is purchasing from us. This is addressed using Frequency."
   ]
  },
  {
   "cell_type": "code",
   "execution_count": 10,
   "id": "ffaed028",
   "metadata": {
    "execution": {
     "iopub.execute_input": "2023-11-28T07:26:08.597823Z",
     "iopub.status.busy": "2023-11-28T07:26:08.596953Z",
     "iopub.status.idle": "2023-11-28T07:26:09.264913Z",
     "shell.execute_reply": "2023-11-28T07:26:09.262912Z"
    },
    "papermill": {
     "duration": 0.688772,
     "end_time": "2023-11-28T07:26:09.268401",
     "exception": false,
     "start_time": "2023-11-28T07:26:08.579629",
     "status": "completed"
    },
    "tags": []
   },
   "outputs": [
    {
     "data": {
      "text/plain": [
       "<seaborn.axisgrid.FacetGrid at 0x7fe8660825f0>"
      ]
     },
     "execution_count": 10,
     "metadata": {},
     "output_type": "execute_result"
    },
    {
     "data": {
      "image/png": "[encoded data removed]",
      "text/plain": [
       "<Figure size 500x500 with 1 Axes>"
      ]
     },
     "metadata": {},
     "output_type": "display_data"
    }
   ],
   "source": [
    "df_freq = df.groupby('CustomerID')['InvoiceDate'].nunique()\n",
    "sns.displot(df_freq,bins=100,binrange=(0,20))"
   ]
  },
  {
   "cell_type": "code",
   "execution_count": 11,
   "id": "5ab39004",
   "metadata": {
    "_kg_hide-output": true,
    "execution": {
     "iopub.execute_input": "2023-11-28T07:26:09.302788Z",
     "iopub.status.busy": "2023-11-28T07:26:09.301550Z",
     "iopub.status.idle": "2023-11-28T07:26:09.313477Z",
     "shell.execute_reply": "2023-11-28T07:26:09.311887Z"
    },
    "papermill": {
     "duration": 0.031903,
     "end_time": "2023-11-28T07:26:09.316203",
     "exception": false,
     "start_time": "2023-11-28T07:26:09.284300",
     "status": "completed"
    },
    "tags": []
   },
   "outputs": [
    {
     "data": {
      "text/plain": [
       "InvoiceDate\n",
       "1      1495\n",
       "2       833\n",
       "3       508\n",
       "4       391\n",
       "5       242\n",
       "6       172\n",
       "7       142\n",
       "8        94\n",
       "9        77\n",
       "11       53\n",
       "10       51\n",
       "12       42\n",
       "13       31\n",
       "15       29\n",
       "17       18\n",
       "18       17\n",
       "14       16\n",
       "20       13\n",
       "16       12\n",
       "21       10\n",
       "19       10\n",
       "26        7\n",
       "30        7\n",
       "25        6\n",
       "22        6\n",
       "24        5\n",
       "27        4\n",
       "23        4\n",
       "36        3\n",
       "33        2\n",
       "46        2\n",
       "29        2\n",
       "55        2\n",
       "34        2\n",
       "39        2\n",
       "44        2\n",
       "31        2\n",
       "50        2\n",
       "28        2\n",
       "32        2\n",
       "57        1\n",
       "91        1\n",
       "124       1\n",
       "210       1\n",
       "38        1\n",
       "83        1\n",
       "61        1\n",
       "93        1\n",
       "35        1\n",
       "41        1\n",
       "47        1\n",
       "58        1\n",
       "201       1\n",
       "73        1\n",
       "95        1\n",
       "37        1\n",
       "54        1\n",
       "45        1\n",
       "Name: count, dtype: int64"
      ]
     },
     "execution_count": 11,
     "metadata": {},
     "output_type": "execute_result"
    }
   ],
   "source": [
    "df_freq.value_counts()"
   ]
  },
  {
   "cell_type": "markdown",
   "id": "932d45c8",
   "metadata": {
    "papermill": {
     "duration": 0.015745,
     "end_time": "2023-11-28T07:26:09.349099",
     "exception": false,
     "start_time": "2023-11-28T07:26:09.333354",
     "status": "completed"
    },
    "tags": []
   },
   "source": [
    "### Monetary <a class=\"anchor\"  id=\"monetary\"></a>\n",
    "\n",
    "The last attribute of an RFM analysis is the monetary ie. what does the total purchase made by a customer amount to. This can be calculated using the unit price of an item and the quantity of the items bought."
   ]
  },
  {
   "cell_type": "code",
   "execution_count": 12,
   "id": "be853f1e",
   "metadata": {
    "execution": {
     "iopub.execute_input": "2023-11-28T07:26:09.384121Z",
     "iopub.status.busy": "2023-11-28T07:26:09.383335Z",
     "iopub.status.idle": "2023-11-28T07:26:09.394327Z",
     "shell.execute_reply": "2023-11-28T07:26:09.393346Z"
    },
    "papermill": {
     "duration": 0.032534,
     "end_time": "2023-11-28T07:26:09.397086",
     "exception": false,
     "start_time": "2023-11-28T07:26:09.364552",
     "status": "completed"
    },
    "tags": []
   },
   "outputs": [],
   "source": [
    "#Adding a new column for amount\n",
    "df['Amount'] = df['UnitPrice']*df['Quantity']"
   ]
  },
  {
   "cell_type": "code",
   "execution_count": 13,
   "id": "e1cbf766",
   "metadata": {
    "execution": {
     "iopub.execute_input": "2023-11-28T07:26:09.430810Z",
     "iopub.status.busy": "2023-11-28T07:26:09.430343Z",
     "iopub.status.idle": "2023-11-28T07:26:09.858039Z",
     "shell.execute_reply": "2023-11-28T07:26:09.857106Z"
    },
    "papermill": {
     "duration": 0.447655,
     "end_time": "2023-11-28T07:26:09.860306",
     "exception": false,
     "start_time": "2023-11-28T07:26:09.412651",
     "status": "completed"
    },
    "tags": []
   },
   "outputs": [
    {
     "data": {
      "text/plain": [
       "<seaborn.axisgrid.FacetGrid at 0x7fe866083250>"
      ]
     },
     "execution_count": 13,
     "metadata": {},
     "output_type": "execute_result"
    },
    {
     "data": {
      "image/png": "[encoded data removed]",
      "text/plain": [
       "<Figure size 500x500 with 1 Axes>"
      ]
     },
     "metadata": {},
     "output_type": "display_data"
    }
   ],
   "source": [
    "df_monetary = df.groupby('CustomerID')['Amount'].sum()\n",
    "sns.displot(df_monetary,bins=10,binrange=(0,10000))"
   ]
  },
  {
   "cell_type": "code",
   "execution_count": 14,
   "id": "0f355e86",
   "metadata": {
    "execution": {
     "iopub.execute_input": "2023-11-28T07:26:09.897628Z",
     "iopub.status.busy": "2023-11-28T07:26:09.896933Z",
     "iopub.status.idle": "2023-11-28T07:26:09.908135Z",
     "shell.execute_reply": "2023-11-28T07:26:09.906464Z"
    },
    "papermill": {
     "duration": 0.033728,
     "end_time": "2023-11-28T07:26:09.911126",
     "exception": false,
     "start_time": "2023-11-28T07:26:09.877398",
     "status": "completed"
    },
    "tags": []
   },
   "outputs": [
    {
     "data": {
      "text/plain": [
       "Amount\n",
       "76.32      4\n",
       "35.40      3\n",
       "363.65     3\n",
       "15.00      3\n",
       "440.00     3\n",
       "          ..\n",
       "477.79     1\n",
       "1530.75    1\n",
       "605.06     1\n",
       "183.85     1\n",
       "1837.28    1\n",
       "Name: count, Length: 4256, dtype: int64"
      ]
     },
     "execution_count": 14,
     "metadata": {},
     "output_type": "execute_result"
    }
   ],
   "source": [
    "df_monetary.value_counts()"
   ]
  },
  {
   "cell_type": "markdown",
   "id": "6441e913",
   "metadata": {
    "papermill": {
     "duration": 0.015384,
     "end_time": "2023-11-28T07:26:09.942436",
     "exception": false,
     "start_time": "2023-11-28T07:26:09.927052",
     "status": "completed"
    },
    "tags": []
   },
   "source": [
    "### Deep dive  <a class=\"anchor\"  id=\"deep-dive\"></a>"
   ]
  },
  {
   "cell_type": "code",
   "execution_count": 15,
   "id": "195c9e14",
   "metadata": {
    "execution": {
     "iopub.execute_input": "2023-11-28T07:26:09.977872Z",
     "iopub.status.busy": "2023-11-28T07:26:09.976273Z",
     "iopub.status.idle": "2023-11-28T07:26:09.983273Z",
     "shell.execute_reply": "2023-11-28T07:26:09.982270Z"
    },
    "papermill": {
     "duration": 0.027689,
     "end_time": "2023-11-28T07:26:09.986000",
     "exception": false,
     "start_time": "2023-11-28T07:26:09.958311",
     "status": "completed"
    },
    "tags": []
   },
   "outputs": [],
   "source": [
    "#Creating a new data frame having Customer ID and RFM values.\n",
    "rfm_df = pd.DataFrame(columns=['CustomerID'])"
   ]
  },
  {
   "cell_type": "code",
   "execution_count": 16,
   "id": "3c1cca7a",
   "metadata": {
    "execution": {
     "iopub.execute_input": "2023-11-28T07:26:10.021501Z",
     "iopub.status.busy": "2023-11-28T07:26:10.020627Z",
     "iopub.status.idle": "2023-11-28T07:26:10.037632Z",
     "shell.execute_reply": "2023-11-28T07:26:10.036282Z"
    },
    "papermill": {
     "duration": 0.038898,
     "end_time": "2023-11-28T07:26:10.040712",
     "exception": false,
     "start_time": "2023-11-28T07:26:10.001814",
     "status": "completed"
    },
    "tags": []
   },
   "outputs": [],
   "source": [
    "rfm_df['CustomerID'] = df_recent.index\n",
    "rfm_df = rfm_df.merge(df_recent,on='CustomerID')"
   ]
  },
  {
   "cell_type": "code",
   "execution_count": 17,
   "id": "03c57ee3",
   "metadata": {
    "execution": {
     "iopub.execute_input": "2023-11-28T07:26:10.076936Z",
     "iopub.status.busy": "2023-11-28T07:26:10.076106Z",
     "iopub.status.idle": "2023-11-28T07:26:10.084580Z",
     "shell.execute_reply": "2023-11-28T07:26:10.083271Z"
    },
    "papermill": {
     "duration": 0.030384,
     "end_time": "2023-11-28T07:26:10.087739",
     "exception": false,
     "start_time": "2023-11-28T07:26:10.057355",
     "status": "completed"
    },
    "tags": []
   },
   "outputs": [],
   "source": [
    "rfm_df = rfm_df.merge(df_freq,on='CustomerID')"
   ]
  },
  {
   "cell_type": "code",
   "execution_count": 18,
   "id": "87c7044a",
   "metadata": {
    "execution": {
     "iopub.execute_input": "2023-11-28T07:26:10.125072Z",
     "iopub.status.busy": "2023-11-28T07:26:10.124321Z",
     "iopub.status.idle": "2023-11-28T07:26:10.134199Z",
     "shell.execute_reply": "2023-11-28T07:26:10.132492Z"
    },
    "papermill": {
     "duration": 0.030133,
     "end_time": "2023-11-28T07:26:10.136930",
     "exception": false,
     "start_time": "2023-11-28T07:26:10.106797",
     "status": "completed"
    },
    "tags": []
   },
   "outputs": [],
   "source": [
    "rfm_df = rfm_df.merge(df_monetary,on='CustomerID')"
   ]
  },
  {
   "cell_type": "code",
   "execution_count": 19,
   "id": "32df642d",
   "metadata": {
    "execution": {
     "iopub.execute_input": "2023-11-28T07:26:10.176057Z",
     "iopub.status.busy": "2023-11-28T07:26:10.175565Z",
     "iopub.status.idle": "2023-11-28T07:26:10.181710Z",
     "shell.execute_reply": "2023-11-28T07:26:10.180713Z"
    },
    "papermill": {
     "duration": 0.028744,
     "end_time": "2023-11-28T07:26:10.184352",
     "exception": false,
     "start_time": "2023-11-28T07:26:10.155608",
     "status": "completed"
    },
    "tags": []
   },
   "outputs": [],
   "source": [
    "rfm_df.rename(columns={'InvoiceDate':'Frequency'},inplace=True)"
   ]
  },
  {
   "cell_type": "code",
   "execution_count": 20,
   "id": "f59dc1ee",
   "metadata": {
    "execution": {
     "iopub.execute_input": "2023-11-28T07:26:10.224865Z",
     "iopub.status.busy": "2023-11-28T07:26:10.223999Z",
     "iopub.status.idle": "2023-11-28T07:26:10.240410Z",
     "shell.execute_reply": "2023-11-28T07:26:10.238889Z"
    },
    "papermill": {
     "duration": 0.038744,
     "end_time": "2023-11-28T07:26:10.243369",
     "exception": false,
     "start_time": "2023-11-28T07:26:10.204625",
     "status": "completed"
    },
    "tags": []
   },
   "outputs": [
    {
     "data": {
      "text/html": [
       "<div>\n",
       "<style scoped>\n",
       "    .dataframe tbody tr th:only-of-type {\n",
       "        vertical-align: middle;\n",
       "    }\n",
       "\n",
       "    .dataframe tbody tr th {\n",
       "        vertical-align: top;\n",
       "    }\n",
       "\n",
       "    .dataframe thead th {\n",
       "        text-align: right;\n",
       "    }\n",
       "</style>\n",
       "<table border=\"1\" class=\"dataframe\">\n",
       "  <thead>\n",
       "    <tr style=\"text-align: right;\">\n",
       "      <th></th>\n",
       "      <th>CustomerID</th>\n",
       "      <th>Recency</th>\n",
       "      <th>Frequency</th>\n",
       "      <th>Amount</th>\n",
       "    </tr>\n",
       "  </thead>\n",
       "  <tbody>\n",
       "    <tr>\n",
       "      <th>0</th>\n",
       "      <td>12346.0</td>\n",
       "      <td>325</td>\n",
       "      <td>1</td>\n",
       "      <td>77183.60</td>\n",
       "    </tr>\n",
       "    <tr>\n",
       "      <th>1</th>\n",
       "      <td>12347.0</td>\n",
       "      <td>1</td>\n",
       "      <td>7</td>\n",
       "      <td>4310.00</td>\n",
       "    </tr>\n",
       "    <tr>\n",
       "      <th>2</th>\n",
       "      <td>12348.0</td>\n",
       "      <td>74</td>\n",
       "      <td>4</td>\n",
       "      <td>1797.24</td>\n",
       "    </tr>\n",
       "    <tr>\n",
       "      <th>3</th>\n",
       "      <td>12349.0</td>\n",
       "      <td>18</td>\n",
       "      <td>1</td>\n",
       "      <td>1757.55</td>\n",
       "    </tr>\n",
       "    <tr>\n",
       "      <th>4</th>\n",
       "      <td>12350.0</td>\n",
       "      <td>309</td>\n",
       "      <td>1</td>\n",
       "      <td>334.40</td>\n",
       "    </tr>\n",
       "    <tr>\n",
       "      <th>...</th>\n",
       "      <td>...</td>\n",
       "      <td>...</td>\n",
       "      <td>...</td>\n",
       "      <td>...</td>\n",
       "    </tr>\n",
       "    <tr>\n",
       "      <th>4333</th>\n",
       "      <td>18280.0</td>\n",
       "      <td>277</td>\n",
       "      <td>1</td>\n",
       "      <td>180.60</td>\n",
       "    </tr>\n",
       "    <tr>\n",
       "      <th>4334</th>\n",
       "      <td>18281.0</td>\n",
       "      <td>180</td>\n",
       "      <td>1</td>\n",
       "      <td>80.82</td>\n",
       "    </tr>\n",
       "    <tr>\n",
       "      <th>4335</th>\n",
       "      <td>18282.0</td>\n",
       "      <td>7</td>\n",
       "      <td>2</td>\n",
       "      <td>178.05</td>\n",
       "    </tr>\n",
       "    <tr>\n",
       "      <th>4336</th>\n",
       "      <td>18283.0</td>\n",
       "      <td>3</td>\n",
       "      <td>16</td>\n",
       "      <td>2045.53</td>\n",
       "    </tr>\n",
       "    <tr>\n",
       "      <th>4337</th>\n",
       "      <td>18287.0</td>\n",
       "      <td>42</td>\n",
       "      <td>3</td>\n",
       "      <td>1837.28</td>\n",
       "    </tr>\n",
       "  </tbody>\n",
       "</table>\n",
       "<p>4338 rows × 4 columns</p>\n",
       "</div>"
      ],
      "text/plain": [
       "      CustomerID  Recency  Frequency    Amount\n",
       "0        12346.0      325          1  77183.60\n",
       "1        12347.0        1          7   4310.00\n",
       "2        12348.0       74          4   1797.24\n",
       "3        12349.0       18          1   1757.55\n",
       "4        12350.0      309          1    334.40\n",
       "...          ...      ...        ...       ...\n",
       "4333     18280.0      277          1    180.60\n",
       "4334     18281.0      180          1     80.82\n",
       "4335     18282.0        7          2    178.05\n",
       "4336     18283.0        3         16   2045.53\n",
       "4337     18287.0       42          3   1837.28\n",
       "\n",
       "[4338 rows x 4 columns]"
      ]
     },
     "execution_count": 20,
     "metadata": {},
     "output_type": "execute_result"
    }
   ],
   "source": [
    "rfm_df"
   ]
  },
  {
   "cell_type": "code",
   "execution_count": 21,
   "id": "874420dc",
   "metadata": {
    "execution": {
     "iopub.execute_input": "2023-11-28T07:26:10.282451Z",
     "iopub.status.busy": "2023-11-28T07:26:10.281979Z",
     "iopub.status.idle": "2023-11-28T07:26:10.307498Z",
     "shell.execute_reply": "2023-11-28T07:26:10.306302Z"
    },
    "papermill": {
     "duration": 0.047706,
     "end_time": "2023-11-28T07:26:10.310043",
     "exception": false,
     "start_time": "2023-11-28T07:26:10.262337",
     "status": "completed"
    },
    "tags": []
   },
   "outputs": [
    {
     "data": {
      "text/html": [
       "<div>\n",
       "<style scoped>\n",
       "    .dataframe tbody tr th:only-of-type {\n",
       "        vertical-align: middle;\n",
       "    }\n",
       "\n",
       "    .dataframe tbody tr th {\n",
       "        vertical-align: top;\n",
       "    }\n",
       "\n",
       "    .dataframe thead th {\n",
       "        text-align: right;\n",
       "    }\n",
       "</style>\n",
       "<table border=\"1\" class=\"dataframe\">\n",
       "  <thead>\n",
       "    <tr style=\"text-align: right;\">\n",
       "      <th></th>\n",
       "      <th>CustomerID</th>\n",
       "      <th>Recency</th>\n",
       "      <th>Frequency</th>\n",
       "      <th>Amount</th>\n",
       "    </tr>\n",
       "  </thead>\n",
       "  <tbody>\n",
       "    <tr>\n",
       "      <th>count</th>\n",
       "      <td>4338.000000</td>\n",
       "      <td>4338.000000</td>\n",
       "      <td>4338.000000</td>\n",
       "      <td>4338.000000</td>\n",
       "    </tr>\n",
       "    <tr>\n",
       "      <th>mean</th>\n",
       "      <td>15300.408022</td>\n",
       "      <td>91.536422</td>\n",
       "      <td>4.250807</td>\n",
       "      <td>2048.688081</td>\n",
       "    </tr>\n",
       "    <tr>\n",
       "      <th>std</th>\n",
       "      <td>1721.808492</td>\n",
       "      <td>100.014169</td>\n",
       "      <td>7.635202</td>\n",
       "      <td>8985.230220</td>\n",
       "    </tr>\n",
       "    <tr>\n",
       "      <th>min</th>\n",
       "      <td>12346.000000</td>\n",
       "      <td>0.000000</td>\n",
       "      <td>1.000000</td>\n",
       "      <td>3.750000</td>\n",
       "    </tr>\n",
       "    <tr>\n",
       "      <th>25%</th>\n",
       "      <td>13813.250000</td>\n",
       "      <td>17.000000</td>\n",
       "      <td>1.000000</td>\n",
       "      <td>306.482500</td>\n",
       "    </tr>\n",
       "    <tr>\n",
       "      <th>50%</th>\n",
       "      <td>15299.500000</td>\n",
       "      <td>50.000000</td>\n",
       "      <td>2.000000</td>\n",
       "      <td>668.570000</td>\n",
       "    </tr>\n",
       "    <tr>\n",
       "      <th>75%</th>\n",
       "      <td>16778.750000</td>\n",
       "      <td>141.000000</td>\n",
       "      <td>5.000000</td>\n",
       "      <td>1660.597500</td>\n",
       "    </tr>\n",
       "    <tr>\n",
       "      <th>max</th>\n",
       "      <td>18287.000000</td>\n",
       "      <td>373.000000</td>\n",
       "      <td>210.000000</td>\n",
       "      <td>280206.020000</td>\n",
       "    </tr>\n",
       "  </tbody>\n",
       "</table>\n",
       "</div>"
      ],
      "text/plain": [
       "         CustomerID      Recency    Frequency         Amount\n",
       "count   4338.000000  4338.000000  4338.000000    4338.000000\n",
       "mean   15300.408022    91.536422     4.250807    2048.688081\n",
       "std     1721.808492   100.014169     7.635202    8985.230220\n",
       "min    12346.000000     0.000000     1.000000       3.750000\n",
       "25%    13813.250000    17.000000     1.000000     306.482500\n",
       "50%    15299.500000    50.000000     2.000000     668.570000\n",
       "75%    16778.750000   141.000000     5.000000    1660.597500\n",
       "max    18287.000000   373.000000   210.000000  280206.020000"
      ]
     },
     "execution_count": 21,
     "metadata": {},
     "output_type": "execute_result"
    }
   ],
   "source": [
    "rfm_df.describe()"
   ]
  },
  {
   "cell_type": "code",
   "execution_count": 22,
   "id": "a14652db",
   "metadata": {
    "execution": {
     "iopub.execute_input": "2023-11-28T07:26:10.344844Z",
     "iopub.status.busy": "2023-11-28T07:26:10.344377Z",
     "iopub.status.idle": "2023-11-28T07:26:10.673470Z",
     "shell.execute_reply": "2023-11-28T07:26:10.671556Z"
    },
    "papermill": {
     "duration": 0.35129,
     "end_time": "2023-11-28T07:26:10.677720",
     "exception": false,
     "start_time": "2023-11-28T07:26:10.326430",
     "status": "completed"
    },
    "tags": []
   },
   "outputs": [
    {
     "data": {
      "text/plain": [
       "<Axes: xlabel='Recency', ylabel='Frequency'>"
      ]
     },
     "execution_count": 22,
     "metadata": {},
     "output_type": "execute_result"
    },
    {
     "data": {
      "image/png": "[encoded data removed]",
      "text/plain": [
       "<Figure size 640x480 with 1 Axes>"
      ]
     },
     "metadata": {},
     "output_type": "display_data"
    }
   ],
   "source": [
    "#Recency vs Frequency\n",
    "sns.scatterplot(data=rfm_df, x=\"Recency\", y=\"Frequency\",marker='*')"
   ]
  },
  {
   "cell_type": "markdown",
   "id": "c0ac3592",
   "metadata": {
    "papermill": {
     "duration": 0.018675,
     "end_time": "2023-11-28T07:26:10.714688",
     "exception": false,
     "start_time": "2023-11-28T07:26:10.696013",
     "status": "completed"
    },
    "tags": []
   },
   "source": [
    "It looks like the customers with high frequency often have a low recency, ie have made a recent purchase with us."
   ]
  },
  {
   "cell_type": "code",
   "execution_count": 23,
   "id": "b7800902",
   "metadata": {
    "execution": {
     "iopub.execute_input": "2023-11-28T07:26:10.752441Z",
     "iopub.status.busy": "2023-11-28T07:26:10.752011Z",
     "iopub.status.idle": "2023-11-28T07:26:11.081155Z",
     "shell.execute_reply": "2023-11-28T07:26:11.079477Z"
    },
    "papermill": {
     "duration": 0.352488,
     "end_time": "2023-11-28T07:26:11.084270",
     "exception": false,
     "start_time": "2023-11-28T07:26:10.731782",
     "status": "completed"
    },
    "tags": []
   },
   "outputs": [
    {
     "data": {
      "text/plain": [
       "[(0.0, 10000.0)]"
      ]
     },
     "execution_count": 23,
     "metadata": {},
     "output_type": "execute_result"
    },
    {
     "data": {
      "image/png": "[encoded data removed]",
      "text/plain": [
       "<Figure size 640x480 with 1 Axes>"
      ]
     },
     "metadata": {},
     "output_type": "display_data"
    }
   ],
   "source": [
    "#Frequency vs Amount\n",
    "ax = sns.scatterplot(data=rfm_df, x=\"Amount\", y=\"Frequency\",marker='*')\n",
    "ax.set(ylim=(0,50))\n",
    "ax.set(xlim=(0,10000))"
   ]
  },
  {
   "cell_type": "markdown",
   "id": "c97a1899",
   "metadata": {
    "papermill": {
     "duration": 0.019628,
     "end_time": "2023-11-28T07:26:11.125072",
     "exception": false,
     "start_time": "2023-11-28T07:26:11.105444",
     "status": "completed"
    },
    "tags": []
   },
   "source": [
    "Let us also analyse which month had the highest purchase numbers"
   ]
  },
  {
   "cell_type": "code",
   "execution_count": 24,
   "id": "218ac05a",
   "metadata": {
    "execution": {
     "iopub.execute_input": "2023-11-28T07:26:11.168600Z",
     "iopub.status.busy": "2023-11-28T07:26:11.167479Z",
     "iopub.status.idle": "2023-11-28T07:26:14.145983Z",
     "shell.execute_reply": "2023-11-28T07:26:14.143785Z"
    },
    "papermill": {
     "duration": 3.004061,
     "end_time": "2023-11-28T07:26:14.149426",
     "exception": false,
     "start_time": "2023-11-28T07:26:11.145365",
     "status": "completed"
    },
    "tags": []
   },
   "outputs": [],
   "source": [
    "df['Month'] = df['InvoiceDate'].dt.strftime('%m')"
   ]
  },
  {
   "cell_type": "code",
   "execution_count": 25,
   "id": "10396caa",
   "metadata": {
    "execution": {
     "iopub.execute_input": "2023-11-28T07:26:14.192876Z",
     "iopub.status.busy": "2023-11-28T07:26:14.191493Z",
     "iopub.status.idle": "2023-11-28T07:26:14.813348Z",
     "shell.execute_reply": "2023-11-28T07:26:14.812013Z"
    },
    "papermill": {
     "duration": 0.647902,
     "end_time": "2023-11-28T07:26:14.816425",
     "exception": false,
     "start_time": "2023-11-28T07:26:14.168523",
     "status": "completed"
    },
    "tags": []
   },
   "outputs": [],
   "source": [
    "df.sort_values('Month',inplace=True)"
   ]
  },
  {
   "cell_type": "code",
   "execution_count": 26,
   "id": "2e3371e9",
   "metadata": {
    "execution": {
     "iopub.execute_input": "2023-11-28T07:26:14.862426Z",
     "iopub.status.busy": "2023-11-28T07:26:14.861978Z",
     "iopub.status.idle": "2023-11-28T07:26:15.265803Z",
     "shell.execute_reply": "2023-11-28T07:26:15.264301Z"
    },
    "papermill": {
     "duration": 0.432291,
     "end_time": "2023-11-28T07:26:15.268601",
     "exception": false,
     "start_time": "2023-11-28T07:26:14.836310",
     "status": "completed"
    },
    "tags": []
   },
   "outputs": [
    {
     "data": {
      "text/plain": [
       "<Axes: xlabel='Month'>"
      ]
     },
     "execution_count": 26,
     "metadata": {},
     "output_type": "execute_result"
    },
    {
     "data": {
      "image/png": "[encoded data removed]",
      "text/plain": [
       "<Figure size 1200x500 with 1 Axes>"
      ]
     },
     "metadata": {},
     "output_type": "display_data"
    }
   ],
   "source": [
    "df['Month'].value_counts(sort=False).plot(figsize=(12,5))"
   ]
  },
  {
   "cell_type": "markdown",
   "id": "52c8de9c",
   "metadata": {
    "papermill": {
     "duration": 0.02131,
     "end_time": "2023-11-28T07:26:15.311463",
     "exception": false,
     "start_time": "2023-11-28T07:26:15.290153",
     "status": "completed"
    },
    "tags": []
   },
   "source": [
    "Looks like November recorded a high number of sales, maybe this was the time when the black friday sale was annouced or there was an increase in the number of customers visiting the store due to successful promotions."
   ]
  },
  {
   "cell_type": "markdown",
   "id": "341af29d",
   "metadata": {
    "papermill": {
     "duration": 0.020569,
     "end_time": "2023-11-28T07:26:15.352976",
     "exception": false,
     "start_time": "2023-11-28T07:26:15.332407",
     "status": "completed"
    },
    "tags": []
   },
   "source": [
    "### Outlier detection and capping using IQR <a class=\"anchor\"  id=\"outlier\"></a>"
   ]
  },
  {
   "cell_type": "code",
   "execution_count": 27,
   "id": "0c3a0bc9",
   "metadata": {
    "execution": {
     "iopub.execute_input": "2023-11-28T07:26:15.395492Z",
     "iopub.status.busy": "2023-11-28T07:26:15.395033Z",
     "iopub.status.idle": "2023-11-28T07:26:16.000268Z",
     "shell.execute_reply": "2023-11-28T07:26:15.997755Z"
    },
    "papermill": {
     "duration": 0.630778,
     "end_time": "2023-11-28T07:26:16.003312",
     "exception": false,
     "start_time": "2023-11-28T07:26:15.372534",
     "status": "completed"
    },
    "tags": []
   },
   "outputs": [
    {
     "name": "stdout",
     "output_type": "stream",
     "text": [
      "Recency: \n"
     ]
    },
    {
     "data": {
      "image/png": "[encoded data removed]",
      "text/plain": [
       "<Figure size 640x480 with 1 Axes>"
      ]
     },
     "metadata": {},
     "output_type": "display_data"
    },
    {
     "name": "stdout",
     "output_type": "stream",
     "text": [
      "Frequency: \n"
     ]
    },
    {
     "data": {
      "image/png": "[encoded data removed]",
      "text/plain": [
       "<Figure size 640x480 with 1 Axes>"
      ]
     },
     "metadata": {},
     "output_type": "display_data"
    },
    {
     "name": "stdout",
     "output_type": "stream",
     "text": [
      "Amount: \n"
     ]
    },
    {
     "data": {
      "image/png": "[encoded data removed]",
      "text/plain": [
       "<Figure size 640x480 with 1 Axes>"
      ]
     },
     "metadata": {},
     "output_type": "display_data"
    }
   ],
   "source": [
    "#outlier visualization\n",
    "list1 = ['Recency','Frequency','Amount']\n",
    "for i in list1:\n",
    "    print(str(i)+': ')\n",
    "    ax = sns.boxplot(x=rfm_df[str(i)])\n",
    "    plt.show()"
   ]
  },
  {
   "cell_type": "markdown",
   "id": "40b58990",
   "metadata": {
    "papermill": {
     "duration": 0.020639,
     "end_time": "2023-11-28T07:26:16.046935",
     "exception": false,
     "start_time": "2023-11-28T07:26:16.026296",
     "status": "completed"
    },
    "tags": []
   },
   "source": [
    "Our data has a good amount of outliers as seen in the boxplots above. It is essential to treat these outliers as we will be making use of the K-Means algorithm for clustering and this algorithm, being a distance-based algorithm, can highly be affected by the presence of outliers.\n",
    "\n",
    "I will be capping the outliers using the IQR method."
   ]
  },
  {
   "cell_type": "code",
   "execution_count": 28,
   "id": "85c0beb7",
   "metadata": {
    "execution": {
     "iopub.execute_input": "2023-11-28T07:26:16.092100Z",
     "iopub.status.busy": "2023-11-28T07:26:16.091588Z",
     "iopub.status.idle": "2023-11-28T07:26:16.098523Z",
     "shell.execute_reply": "2023-11-28T07:26:16.097396Z"
    },
    "papermill": {
     "duration": 0.034058,
     "end_time": "2023-11-28T07:26:16.102215",
     "exception": false,
     "start_time": "2023-11-28T07:26:16.068157",
     "status": "completed"
    },
    "tags": []
   },
   "outputs": [],
   "source": [
    "rfm_df.drop('CustomerID',axis=1,inplace=True)"
   ]
  },
  {
   "cell_type": "code",
   "execution_count": 29,
   "id": "831ea5ae",
   "metadata": {
    "execution": {
     "iopub.execute_input": "2023-11-28T07:26:16.149362Z",
     "iopub.status.busy": "2023-11-28T07:26:16.148326Z",
     "iopub.status.idle": "2023-11-28T07:26:16.164530Z",
     "shell.execute_reply": "2023-11-28T07:26:16.162855Z"
    },
    "papermill": {
     "duration": 0.04398,
     "end_time": "2023-11-28T07:26:16.167955",
     "exception": false,
     "start_time": "2023-11-28T07:26:16.123975",
     "status": "completed"
    },
    "tags": []
   },
   "outputs": [
    {
     "data": {
      "text/html": [
       "<div>\n",
       "<style scoped>\n",
       "    .dataframe tbody tr th:only-of-type {\n",
       "        vertical-align: middle;\n",
       "    }\n",
       "\n",
       "    .dataframe tbody tr th {\n",
       "        vertical-align: top;\n",
       "    }\n",
       "\n",
       "    .dataframe thead th {\n",
       "        text-align: right;\n",
       "    }\n",
       "</style>\n",
       "<table border=\"1\" class=\"dataframe\">\n",
       "  <thead>\n",
       "    <tr style=\"text-align: right;\">\n",
       "      <th></th>\n",
       "      <th>Recency</th>\n",
       "      <th>Frequency</th>\n",
       "      <th>Amount</th>\n",
       "    </tr>\n",
       "  </thead>\n",
       "  <tbody>\n",
       "    <tr>\n",
       "      <th>0</th>\n",
       "      <td>325</td>\n",
       "      <td>1</td>\n",
       "      <td>77183.60</td>\n",
       "    </tr>\n",
       "    <tr>\n",
       "      <th>1</th>\n",
       "      <td>1</td>\n",
       "      <td>7</td>\n",
       "      <td>4310.00</td>\n",
       "    </tr>\n",
       "    <tr>\n",
       "      <th>2</th>\n",
       "      <td>74</td>\n",
       "      <td>4</td>\n",
       "      <td>1797.24</td>\n",
       "    </tr>\n",
       "    <tr>\n",
       "      <th>3</th>\n",
       "      <td>18</td>\n",
       "      <td>1</td>\n",
       "      <td>1757.55</td>\n",
       "    </tr>\n",
       "    <tr>\n",
       "      <th>4</th>\n",
       "      <td>309</td>\n",
       "      <td>1</td>\n",
       "      <td>334.40</td>\n",
       "    </tr>\n",
       "    <tr>\n",
       "      <th>...</th>\n",
       "      <td>...</td>\n",
       "      <td>...</td>\n",
       "      <td>...</td>\n",
       "    </tr>\n",
       "    <tr>\n",
       "      <th>4333</th>\n",
       "      <td>277</td>\n",
       "      <td>1</td>\n",
       "      <td>180.60</td>\n",
       "    </tr>\n",
       "    <tr>\n",
       "      <th>4334</th>\n",
       "      <td>180</td>\n",
       "      <td>1</td>\n",
       "      <td>80.82</td>\n",
       "    </tr>\n",
       "    <tr>\n",
       "      <th>4335</th>\n",
       "      <td>7</td>\n",
       "      <td>2</td>\n",
       "      <td>178.05</td>\n",
       "    </tr>\n",
       "    <tr>\n",
       "      <th>4336</th>\n",
       "      <td>3</td>\n",
       "      <td>16</td>\n",
       "      <td>2045.53</td>\n",
       "    </tr>\n",
       "    <tr>\n",
       "      <th>4337</th>\n",
       "      <td>42</td>\n",
       "      <td>3</td>\n",
       "      <td>1837.28</td>\n",
       "    </tr>\n",
       "  </tbody>\n",
       "</table>\n",
       "<p>4338 rows × 3 columns</p>\n",
       "</div>"
      ],
      "text/plain": [
       "      Recency  Frequency    Amount\n",
       "0         325          1  77183.60\n",
       "1           1          7   4310.00\n",
       "2          74          4   1797.24\n",
       "3          18          1   1757.55\n",
       "4         309          1    334.40\n",
       "...       ...        ...       ...\n",
       "4333      277          1    180.60\n",
       "4334      180          1     80.82\n",
       "4335        7          2    178.05\n",
       "4336        3         16   2045.53\n",
       "4337       42          3   1837.28\n",
       "\n",
       "[4338 rows x 3 columns]"
      ]
     },
     "execution_count": 29,
     "metadata": {},
     "output_type": "execute_result"
    }
   ],
   "source": [
    "rfm_df"
   ]
  },
  {
   "cell_type": "code",
   "execution_count": 30,
   "id": "acb9f0ec",
   "metadata": {
    "execution": {
     "iopub.execute_input": "2023-11-28T07:26:16.215945Z",
     "iopub.status.busy": "2023-11-28T07:26:16.215464Z",
     "iopub.status.idle": "2023-11-28T07:26:16.225550Z",
     "shell.execute_reply": "2023-11-28T07:26:16.222776Z"
    },
    "papermill": {
     "duration": 0.036854,
     "end_time": "2023-11-28T07:26:16.228499",
     "exception": false,
     "start_time": "2023-11-28T07:26:16.191645",
     "status": "completed"
    },
    "tags": []
   },
   "outputs": [],
   "source": [
    "def removeOutliers(data, col):\n",
    "    Q3 = np.quantile(data[col], 0.75)\n",
    "    Q1 = np.quantile(data[col], 0.25)\n",
    "    IQR = Q3 - Q1\n",
    "    copy = data.copy()\n",
    "    print(\"IQR value for column %s is: %s\" % (col, IQR))\n",
    " \n",
    "    lower_range = Q1 - 1.5 * IQR\n",
    "    upper_range = Q3 + 1.5 * IQR\n",
    "    print(lower_range,upper_range)\n",
    "    #np.where(condition, true, false)\n",
    "    copy[col] = np.where(\n",
    "    copy[col] > upper_range,\n",
    "    upper_range,\n",
    "    np.where(\n",
    "        copy[col] < lower_range,\n",
    "        lower_range,\n",
    "        copy[col]\n",
    "        )\n",
    "    )\n",
    "\n",
    "    return copy"
   ]
  },
  {
   "cell_type": "code",
   "execution_count": 31,
   "id": "d2503706",
   "metadata": {
    "execution": {
     "iopub.execute_input": "2023-11-28T07:26:16.273513Z",
     "iopub.status.busy": "2023-11-28T07:26:16.272109Z",
     "iopub.status.idle": "2023-11-28T07:26:16.287027Z",
     "shell.execute_reply": "2023-11-28T07:26:16.285111Z"
    },
    "papermill": {
     "duration": 0.040331,
     "end_time": "2023-11-28T07:26:16.290235",
     "exception": false,
     "start_time": "2023-11-28T07:26:16.249904",
     "status": "completed"
    },
    "tags": []
   },
   "outputs": [
    {
     "name": "stdout",
     "output_type": "stream",
     "text": [
      "IQR value for column Recency is: 124.0\n",
      "-169.0 327.0\n",
      "IQR value for column Frequency is: 4.0\n",
      "-5.0 11.0\n",
      "IQR value for column Amount is: 1354.1149999999998\n",
      "-1724.6899999999996 3691.7699999999995\n"
     ]
    }
   ],
   "source": [
    "final_recency = removeOutliers(rfm_df,'Recency')\n",
    "final_frequency = removeOutliers(final_recency,'Frequency')\n",
    "final_rfm_df = removeOutliers(final_frequency,'Amount')"
   ]
  },
  {
   "cell_type": "code",
   "execution_count": 32,
   "id": "f6ba9894",
   "metadata": {
    "execution": {
     "iopub.execute_input": "2023-11-28T07:26:16.336684Z",
     "iopub.status.busy": "2023-11-28T07:26:16.336248Z",
     "iopub.status.idle": "2023-11-28T07:26:16.363648Z",
     "shell.execute_reply": "2023-11-28T07:26:16.361664Z"
    },
    "papermill": {
     "duration": 0.054308,
     "end_time": "2023-11-28T07:26:16.366747",
     "exception": false,
     "start_time": "2023-11-28T07:26:16.312439",
     "status": "completed"
    },
    "tags": []
   },
   "outputs": [
    {
     "data": {
      "text/html": [
       "<div>\n",
       "<style scoped>\n",
       "    .dataframe tbody tr th:only-of-type {\n",
       "        vertical-align: middle;\n",
       "    }\n",
       "\n",
       "    .dataframe tbody tr th {\n",
       "        vertical-align: top;\n",
       "    }\n",
       "\n",
       "    .dataframe thead th {\n",
       "        text-align: right;\n",
       "    }\n",
       "</style>\n",
       "<table border=\"1\" class=\"dataframe\">\n",
       "  <thead>\n",
       "    <tr style=\"text-align: right;\">\n",
       "      <th></th>\n",
       "      <th>Recency</th>\n",
       "      <th>Frequency</th>\n",
       "      <th>Amount</th>\n",
       "    </tr>\n",
       "  </thead>\n",
       "  <tbody>\n",
       "    <tr>\n",
       "      <th>count</th>\n",
       "      <td>4338.000000</td>\n",
       "      <td>4338.000000</td>\n",
       "      <td>4338.000000</td>\n",
       "    </tr>\n",
       "    <tr>\n",
       "      <th>mean</th>\n",
       "      <td>90.447441</td>\n",
       "      <td>3.481558</td>\n",
       "      <td>1159.010762</td>\n",
       "    </tr>\n",
       "    <tr>\n",
       "      <th>std</th>\n",
       "      <td>97.199547</td>\n",
       "      <td>3.033858</td>\n",
       "      <td>1146.777473</td>\n",
       "    </tr>\n",
       "    <tr>\n",
       "      <th>min</th>\n",
       "      <td>0.000000</td>\n",
       "      <td>1.000000</td>\n",
       "      <td>3.750000</td>\n",
       "    </tr>\n",
       "    <tr>\n",
       "      <th>25%</th>\n",
       "      <td>17.000000</td>\n",
       "      <td>1.000000</td>\n",
       "      <td>306.482500</td>\n",
       "    </tr>\n",
       "    <tr>\n",
       "      <th>50%</th>\n",
       "      <td>50.000000</td>\n",
       "      <td>2.000000</td>\n",
       "      <td>668.570000</td>\n",
       "    </tr>\n",
       "    <tr>\n",
       "      <th>75%</th>\n",
       "      <td>141.000000</td>\n",
       "      <td>5.000000</td>\n",
       "      <td>1660.597500</td>\n",
       "    </tr>\n",
       "    <tr>\n",
       "      <th>max</th>\n",
       "      <td>327.000000</td>\n",
       "      <td>11.000000</td>\n",
       "      <td>3691.770000</td>\n",
       "    </tr>\n",
       "  </tbody>\n",
       "</table>\n",
       "</div>"
      ],
      "text/plain": [
       "           Recency    Frequency       Amount\n",
       "count  4338.000000  4338.000000  4338.000000\n",
       "mean     90.447441     3.481558  1159.010762\n",
       "std      97.199547     3.033858  1146.777473\n",
       "min       0.000000     1.000000     3.750000\n",
       "25%      17.000000     1.000000   306.482500\n",
       "50%      50.000000     2.000000   668.570000\n",
       "75%     141.000000     5.000000  1660.597500\n",
       "max     327.000000    11.000000  3691.770000"
      ]
     },
     "execution_count": 32,
     "metadata": {},
     "output_type": "execute_result"
    }
   ],
   "source": [
    "final_rfm_df.describe()"
   ]
  },
  {
   "cell_type": "code",
   "execution_count": 33,
   "id": "9456b887",
   "metadata": {
    "execution": {
     "iopub.execute_input": "2023-11-28T07:26:16.410936Z",
     "iopub.status.busy": "2023-11-28T07:26:16.410345Z",
     "iopub.status.idle": "2023-11-28T07:26:17.382192Z",
     "shell.execute_reply": "2023-11-28T07:26:17.380137Z"
    },
    "papermill": {
     "duration": 0.997746,
     "end_time": "2023-11-28T07:26:17.385582",
     "exception": false,
     "start_time": "2023-11-28T07:26:16.387836",
     "status": "completed"
    },
    "tags": []
   },
   "outputs": [
    {
     "name": "stdout",
     "output_type": "stream",
     "text": [
      "Recency before and after outlier capping using IQR\n"
     ]
    },
    {
     "data": {
      "image/png": "[encoded data removed]",
      "text/plain": [
       "<Figure size 1600x800 with 2 Axes>"
      ]
     },
     "metadata": {},
     "output_type": "display_data"
    },
    {
     "name": "stdout",
     "output_type": "stream",
     "text": [
      "Frequency before and after outlier capping using IQR\n"
     ]
    },
    {
     "data": {
      "image/png": "[encoded data removed]",
      "text/plain": [
       "<Figure size 1600x800 with 2 Axes>"
      ]
     },
     "metadata": {},
     "output_type": "display_data"
    },
    {
     "name": "stdout",
     "output_type": "stream",
     "text": [
      "Amount before and after outlier capping using IQR\n"
     ]
    },
    {
     "data": {
      "image/png": "[encoded data removed]",
      "text/plain": [
       "<Figure size 1600x800 with 2 Axes>"
      ]
     },
     "metadata": {},
     "output_type": "display_data"
    }
   ],
   "source": [
    "#Boxplots\n",
    "i = 1 \n",
    "for col in ['Recency','Frequency','Amount']:\n",
    "    print(col+' before and after outlier capping using IQR')\n",
    "    plt.figure(figsize=(16,8))\n",
    "    plt.subplot(3,2,i)\n",
    "    sns.boxplot(x=rfm_df[col])\n",
    "    plt.subplot(3,2,i+1)\n",
    "    sns.boxplot(x=final_rfm_df[col])\n",
    "    ++i\n",
    "    #plt.set_title(col)\n",
    "    plt.show()"
   ]
  },
  {
   "cell_type": "markdown",
   "id": "50a01536",
   "metadata": {
    "papermill": {
     "duration": 0.024436,
     "end_time": "2023-11-28T07:26:17.436003",
     "exception": false,
     "start_time": "2023-11-28T07:26:17.411567",
     "status": "completed"
    },
    "tags": []
   },
   "source": [
    "As we can see, we have treated the outliers by capping using the IQR method. "
   ]
  },
  {
   "cell_type": "markdown",
   "id": "c4639b08",
   "metadata": {
    "papermill": {
     "duration": 0.025252,
     "end_time": "2023-11-28T07:26:17.487948",
     "exception": false,
     "start_time": "2023-11-28T07:26:17.462696",
     "status": "completed"
    },
    "tags": []
   },
   "source": [
    "### Feature Scaling - Standardization <a class=\"anchor\"  id=\"scaling\"></a>"
   ]
  },
  {
   "cell_type": "markdown",
   "id": "227c7deb",
   "metadata": {
    "papermill": {
     "duration": 0.024615,
     "end_time": "2023-11-28T07:26:17.538240",
     "exception": false,
     "start_time": "2023-11-28T07:26:17.513625",
     "status": "completed"
    },
    "tags": []
   },
   "source": [
    "We can see that our three RFM attributes have very different ranges. To ensure that the model does not assign a higher weightage to a feature having higher magnitude, it is essential to scale these features and convert them to a standard normal distribution, ie a normal distribution having mean close to zero and variance close to 1."
   ]
  },
  {
   "cell_type": "code",
   "execution_count": 34,
   "id": "c9b61c23",
   "metadata": {
    "execution": {
     "iopub.execute_input": "2023-11-28T07:26:17.589491Z",
     "iopub.status.busy": "2023-11-28T07:26:17.588980Z",
     "iopub.status.idle": "2023-11-28T07:26:17.813741Z",
     "shell.execute_reply": "2023-11-28T07:26:17.811471Z"
    },
    "papermill": {
     "duration": 0.253771,
     "end_time": "2023-11-28T07:26:17.816775",
     "exception": false,
     "start_time": "2023-11-28T07:26:17.563004",
     "status": "completed"
    },
    "tags": []
   },
   "outputs": [],
   "source": [
    "#Feature scaling\n",
    "from sklearn.preprocessing import StandardScaler\n",
    "\n",
    "cols = final_rfm_df.columns\n",
    "\n",
    "scaler = StandardScaler()\n",
    "\n",
    "rfm = scaler.fit_transform(final_rfm_df)\n",
    "\n",
    "rfm_scaled = pd.DataFrame(rfm, columns=[cols])"
   ]
  },
  {
   "cell_type": "code",
   "execution_count": 35,
   "id": "3de8ae85",
   "metadata": {
    "execution": {
     "iopub.execute_input": "2023-11-28T07:26:17.865276Z",
     "iopub.status.busy": "2023-11-28T07:26:17.864754Z",
     "iopub.status.idle": "2023-11-28T07:26:17.894534Z",
     "shell.execute_reply": "2023-11-28T07:26:17.892324Z"
    },
    "papermill": {
     "duration": 0.058568,
     "end_time": "2023-11-28T07:26:17.898192",
     "exception": false,
     "start_time": "2023-11-28T07:26:17.839624",
     "status": "completed"
    },
    "tags": []
   },
   "outputs": [
    {
     "data": {
      "text/html": [
       "<div>\n",
       "<style scoped>\n",
       "    .dataframe tbody tr th:only-of-type {\n",
       "        vertical-align: middle;\n",
       "    }\n",
       "\n",
       "    .dataframe tbody tr th {\n",
       "        vertical-align: top;\n",
       "    }\n",
       "\n",
       "    .dataframe thead tr th {\n",
       "        text-align: left;\n",
       "    }\n",
       "</style>\n",
       "<table border=\"1\" class=\"dataframe\">\n",
       "  <thead>\n",
       "    <tr>\n",
       "      <th></th>\n",
       "      <th>Recency</th>\n",
       "      <th>Frequency</th>\n",
       "      <th>Amount</th>\n",
       "    </tr>\n",
       "  </thead>\n",
       "  <tbody>\n",
       "    <tr>\n",
       "      <th>count</th>\n",
       "      <td>4.338000e+03</td>\n",
       "      <td>4.338000e+03</td>\n",
       "      <td>4.338000e+03</td>\n",
       "    </tr>\n",
       "    <tr>\n",
       "      <th>mean</th>\n",
       "      <td>7.043185e-17</td>\n",
       "      <td>9.008725e-18</td>\n",
       "      <td>-1.703468e-16</td>\n",
       "    </tr>\n",
       "    <tr>\n",
       "      <th>std</th>\n",
       "      <td>1.000115e+00</td>\n",
       "      <td>1.000115e+00</td>\n",
       "      <td>1.000115e+00</td>\n",
       "    </tr>\n",
       "    <tr>\n",
       "      <th>min</th>\n",
       "      <td>-9.306408e-01</td>\n",
       "      <td>-8.180490e-01</td>\n",
       "      <td>-1.007514e+00</td>\n",
       "    </tr>\n",
       "    <tr>\n",
       "      <th>25%</th>\n",
       "      <td>-7.557227e-01</td>\n",
       "      <td>-8.180490e-01</td>\n",
       "      <td>-7.434978e-01</td>\n",
       "    </tr>\n",
       "    <tr>\n",
       "      <th>50%</th>\n",
       "      <td>-4.161758e-01</td>\n",
       "      <td>-4.883976e-01</td>\n",
       "      <td>-4.277179e-01</td>\n",
       "    </tr>\n",
       "    <tr>\n",
       "      <th>75%</th>\n",
       "      <td>5.201504e-01</td>\n",
       "      <td>5.005563e-01</td>\n",
       "      <td>4.374385e-01</td>\n",
       "    </tr>\n",
       "    <tr>\n",
       "      <th>max</th>\n",
       "      <td>2.433960e+00</td>\n",
       "      <td>2.478464e+00</td>\n",
       "      <td>2.208843e+00</td>\n",
       "    </tr>\n",
       "  </tbody>\n",
       "</table>\n",
       "</div>"
      ],
      "text/plain": [
       "            Recency     Frequency        Amount\n",
       "count  4.338000e+03  4.338000e+03  4.338000e+03\n",
       "mean   7.043185e-17  9.008725e-18 -1.703468e-16\n",
       "std    1.000115e+00  1.000115e+00  1.000115e+00\n",
       "min   -9.306408e-01 -8.180490e-01 -1.007514e+00\n",
       "25%   -7.557227e-01 -8.180490e-01 -7.434978e-01\n",
       "50%   -4.161758e-01 -4.883976e-01 -4.277179e-01\n",
       "75%    5.201504e-01  5.005563e-01  4.374385e-01\n",
       "max    2.433960e+00  2.478464e+00  2.208843e+00"
      ]
     },
     "execution_count": 35,
     "metadata": {},
     "output_type": "execute_result"
    }
   ],
   "source": [
    "rfm_scaled.describe()"
   ]
  },
  {
   "cell_type": "markdown",
   "id": "b3633e31",
   "metadata": {
    "papermill": {
     "duration": 0.024074,
     "end_time": "2023-11-28T07:26:17.946265",
     "exception": false,
     "start_time": "2023-11-28T07:26:17.922191",
     "status": "completed"
    },
    "tags": []
   },
   "source": [
    "### Elbow Method to determine number of clusters <a class=\"anchor\"  id=\"elbow\"></a>"
   ]
  },
  {
   "cell_type": "markdown",
   "id": "e4c9f096",
   "metadata": {
    "papermill": {
     "duration": 0.02296,
     "end_time": "2023-11-28T07:26:17.992994",
     "exception": false,
     "start_time": "2023-11-28T07:26:17.970034",
     "status": "completed"
    },
    "tags": []
   },
   "source": [
    "We will be making use of the elbow method to determine the number of clusters."
   ]
  },
  {
   "cell_type": "code",
   "execution_count": 36,
   "id": "576bdebe",
   "metadata": {
    "execution": {
     "iopub.execute_input": "2023-11-28T07:26:18.046627Z",
     "iopub.status.busy": "2023-11-28T07:26:18.046149Z",
     "iopub.status.idle": "2023-11-28T07:26:20.231446Z",
     "shell.execute_reply": "2023-11-28T07:26:20.229097Z"
    },
    "papermill": {
     "duration": 2.219128,
     "end_time": "2023-11-28T07:26:20.236523",
     "exception": false,
     "start_time": "2023-11-28T07:26:18.017395",
     "status": "completed"
    },
    "tags": []
   },
   "outputs": [
    {
     "data": {
      "text/plain": [
       "Text(0, 0.5, 'Inertia')"
      ]
     },
     "execution_count": 36,
     "metadata": {},
     "output_type": "execute_result"
    },
    {
     "data": {
      "image/png": "[encoded data removed]",
      "text/plain": [
       "<Figure size 1200x600 with 1 Axes>"
      ]
     },
     "metadata": {},
     "output_type": "display_data"
    }
   ],
   "source": [
    "from sklearn.datasets import make_blobs\n",
    "from sklearn.cluster import KMeans\n",
    "from sklearn.metrics import silhouette_score\n",
    "from sklearn.decomposition import PCA\n",
    "from mpl_toolkits.mplot3d import Axes3D\n",
    "SSE = []\n",
    "for cluster in range(1,10):\n",
    "    kmeans = KMeans(n_clusters = cluster, init='k-means++',n_init=\"auto\")\n",
    "    kmeans.fit(rfm_scaled)\n",
    "    SSE.append(kmeans.inertia_)\n",
    "# converting the results into a dataframe and plotting them\n",
    "frame = pd.DataFrame({'Cluster':range(1,10), 'SSE':SSE})\n",
    "plt.figure(figsize=(12,6))\n",
    "plt.plot(frame['Cluster'], frame['SSE'], marker='o')\n",
    "plt.xlabel('Number of clusters')\n",
    "plt.ylabel('Inertia')"
   ]
  },
  {
   "cell_type": "markdown",
   "id": "37b9a377",
   "metadata": {
    "papermill": {
     "duration": 0.025233,
     "end_time": "2023-11-28T07:26:20.288765",
     "exception": false,
     "start_time": "2023-11-28T07:26:20.263532",
     "status": "completed"
    },
    "tags": []
   },
   "source": [
    "Point of inflection of the curve us on the 3 cluster mark, therefore let us set the number of clusters to 3."
   ]
  },
  {
   "cell_type": "markdown",
   "id": "fea85748",
   "metadata": {
    "papermill": {
     "duration": 0.024276,
     "end_time": "2023-11-28T07:26:20.338432",
     "exception": false,
     "start_time": "2023-11-28T07:26:20.314156",
     "status": "completed"
    },
    "tags": []
   },
   "source": [
    "### Building,Predicting and Accuracy - KMeans Model <a class=\"anchor\"  id=\"model\"></a>"
   ]
  },
  {
   "cell_type": "code",
   "execution_count": 37,
   "id": "7b439a51",
   "metadata": {
    "execution": {
     "iopub.execute_input": "2023-11-28T07:26:20.389319Z",
     "iopub.status.busy": "2023-11-28T07:26:20.388646Z",
     "iopub.status.idle": "2023-11-28T07:26:20.532121Z",
     "shell.execute_reply": "2023-11-28T07:26:20.530216Z"
    },
    "papermill": {
     "duration": 0.172923,
     "end_time": "2023-11-28T07:26:20.535535",
     "exception": false,
     "start_time": "2023-11-28T07:26:20.362612",
     "status": "completed"
    },
    "tags": []
   },
   "outputs": [
    {
     "data": {
      "text/html": [
       "<style>#sk-container-id-1 {color: black;background-color: white;}#sk-container-id-1 pre{padding: 0;}#sk-container-id-1 div.sk-toggleable {background-color: white;}#sk-container-id-1 label.sk-toggleable__label {cursor: pointer;display: block;width: 100%;margin-bottom: 0;padding: 0.3em;box-sizing: border-box;text-align: center;}#sk-container-id-1 label.sk-toggleable__label-arrow:before {content: \"▸\";float: left;margin-right: 0.25em;color: #696969;}#sk-container-id-1 label.sk-toggleable__label-arrow:hover:before {color: black;}#sk-container-id-1 div.sk-estimator:hover label.sk-toggleable__label-arrow:before {color: black;}#sk-container-id-1 div.sk-toggleable__content {max-height: 0;max-width: 0;overflow: hidden;text-align: left;background-color: #f0f8ff;}#sk-container-id-1 div.sk-toggleable__content pre {margin: 0.2em;color: black;border-radius: 0.25em;background-color: #f0f8ff;}#sk-container-id-1 input.sk-toggleable__control:checked~div.sk-toggleable__content {max-height: 200px;max-width: 100%;overflow: auto;}#sk-container-id-1 input.sk-toggleable__control:checked~label.sk-toggleable__label-arrow:before {content: \"▾\";}#sk-container-id-1 div.sk-estimator input.sk-toggleable__control:checked~label.sk-toggleable__label {background-color: #d4ebff;}#sk-container-id-1 div.sk-label input.sk-toggleable__control:checked~label.sk-toggleable__label {background-color: #d4ebff;}#sk-container-id-1 input.sk-hidden--visually {border: 0;clip: rect(1px 1px 1px 1px);clip: rect(1px, 1px, 1px, 1px);height: 1px;margin: -1px;overflow: hidden;padding: 0;position: absolute;width: 1px;}#sk-container-id-1 div.sk-estimator {font-family: monospace;background-color: #f0f8ff;border: 1px dotted black;border-radius: 0.25em;box-sizing: border-box;margin-bottom: 0.5em;}#sk-container-id-1 div.sk-estimator:hover {background-color: #d4ebff;}#sk-container-id-1 div.sk-parallel-item::after {content: \"\";width: 100%;border-bottom: 1px solid gray;flex-grow: 1;}#sk-container-id-1 div.sk-label:hover label.sk-toggleable__label {background-color: #d4ebff;}#sk-container-id-1 div.sk-serial::before {content: \"\";position: absolute;border-left: 1px solid gray;box-sizing: border-box;top: 0;bottom: 0;left: 50%;z-index: 0;}#sk-container-id-1 div.sk-serial {display: flex;flex-direction: column;align-items: center;background-color: white;padding-right: 0.2em;padding-left: 0.2em;position: relative;}#sk-container-id-1 div.sk-item {position: relative;z-index: 1;}#sk-container-id-1 div.sk-parallel {display: flex;align-items: stretch;justify-content: center;background-color: white;position: relative;}#sk-container-id-1 div.sk-item::before, #sk-container-id-1 div.sk-parallel-item::before {content: \"\";position: absolute;border-left: 1px solid gray;box-sizing: border-box;top: 0;bottom: 0;left: 50%;z-index: -1;}#sk-container-id-1 div.sk-parallel-item {display: flex;flex-direction: column;z-index: 1;position: relative;background-color: white;}#sk-container-id-1 div.sk-parallel-item:first-child::after {align-self: flex-end;width: 50%;}#sk-container-id-1 div.sk-parallel-item:last-child::after {align-self: flex-start;width: 50%;}#sk-container-id-1 div.sk-parallel-item:only-child::after {width: 0;}#sk-container-id-1 div.sk-dashed-wrapped {border: 1px dashed gray;margin: 0 0.4em 0.5em 0.4em;box-sizing: border-box;padding-bottom: 0.4em;background-color: white;}#sk-container-id-1 div.sk-label label {font-family: monospace;font-weight: bold;display: inline-block;line-height: 1.2em;}#sk-container-id-1 div.sk-label-container {text-align: center;}#sk-container-id-1 div.sk-container {/* jupyter's `normalize.less` sets `[hidden] { display: none; }` but bootstrap.min.css set `[hidden] { display: none !important; }` so we also need the `!important` here to be able to override the default hidden behavior on the sphinx rendered scikit-learn.org. See: https://github.com/scikit-learn/scikit-learn/issues/21755 */display: inline-block !important;position: relative;}#sk-container-id-1 div.sk-text-repr-fallback {display: none;}</style><div id=\"sk-container-id-1\" class=\"sk-top-container\"><div class=\"sk-text-repr-fallback\"><pre>KMeans(n_clusters=3, n_init=&#x27;auto&#x27;)</pre><b>In a Jupyter environment, please rerun this cell to show the HTML representation or trust the notebook. <br />On GitHub, the HTML representation is unable to render, please try loading this page with nbviewer.org.</b></div><div class=\"sk-container\" hidden><div class=\"sk-item\"><div class=\"sk-estimator sk-toggleable\"><input class=\"sk-toggleable__control sk-hidden--visually\" id=\"sk-estimator-id-1\" type=\"checkbox\" checked><label for=\"sk-estimator-id-1\" class=\"sk-toggleable__label sk-toggleable__label-arrow\">KMeans</label><div class=\"sk-toggleable__content\"><pre>KMeans(n_clusters=3, n_init=&#x27;auto&#x27;)</pre></div></div></div></div></div>"
      ],
      "text/plain": [
       "KMeans(n_clusters=3, n_init='auto')"
      ]
     },
     "execution_count": 37,
     "metadata": {},
     "output_type": "execute_result"
    }
   ],
   "source": [
    "# First, build a model with 3 clusters\n",
    "kmeans = KMeans( n_clusters = 3, init='k-means++',n_init=\"auto\")\n",
    "kmeans.fit(rfm_scaled)"
   ]
  },
  {
   "cell_type": "code",
   "execution_count": 38,
   "id": "793d0e7b",
   "metadata": {
    "execution": {
     "iopub.execute_input": "2023-11-28T07:26:20.589840Z",
     "iopub.status.busy": "2023-11-28T07:26:20.588060Z",
     "iopub.status.idle": "2023-11-28T07:26:20.999511Z",
     "shell.execute_reply": "2023-11-28T07:26:20.998186Z"
    },
    "papermill": {
     "duration": 0.441353,
     "end_time": "2023-11-28T07:26:21.003140",
     "exception": false,
     "start_time": "2023-11-28T07:26:20.561787",
     "status": "completed"
    },
    "tags": []
   },
   "outputs": [
    {
     "name": "stdout",
     "output_type": "stream",
     "text": [
      "0.5092869612125239\n"
     ]
    }
   ],
   "source": [
    "#Checking the accuracy using the silhouette score\n",
    "print(silhouette_score(rfm_scaled, kmeans.labels_, metric='euclidean'))"
   ]
  },
  {
   "cell_type": "code",
   "execution_count": 39,
   "id": "a60bac22",
   "metadata": {
    "execution": {
     "iopub.execute_input": "2023-11-28T07:26:21.057326Z",
     "iopub.status.busy": "2023-11-28T07:26:21.055951Z",
     "iopub.status.idle": "2023-11-28T07:26:21.069403Z",
     "shell.execute_reply": "2023-11-28T07:26:21.067841Z"
    },
    "papermill": {
     "duration": 0.043481,
     "end_time": "2023-11-28T07:26:21.072403",
     "exception": false,
     "start_time": "2023-11-28T07:26:21.028922",
     "status": "completed"
    },
    "tags": []
   },
   "outputs": [],
   "source": [
    "#Clustering\n",
    "pred = kmeans.predict(rfm_scaled)\n",
    "rfm_cluster = final_rfm_df.copy()\n",
    "rfm_cluster['cluster'] = pred"
   ]
  },
  {
   "cell_type": "code",
   "execution_count": 40,
   "id": "4ec871e0",
   "metadata": {
    "execution": {
     "iopub.execute_input": "2023-11-28T07:26:21.130558Z",
     "iopub.status.busy": "2023-11-28T07:26:21.130006Z",
     "iopub.status.idle": "2023-11-28T07:26:21.150449Z",
     "shell.execute_reply": "2023-11-28T07:26:21.149147Z"
    },
    "papermill": {
     "duration": 0.053623,
     "end_time": "2023-11-28T07:26:21.153935",
     "exception": false,
     "start_time": "2023-11-28T07:26:21.100312",
     "status": "completed"
    },
    "tags": []
   },
   "outputs": [
    {
     "data": {
      "text/html": [
       "<div>\n",
       "<style scoped>\n",
       "    .dataframe tbody tr th:only-of-type {\n",
       "        vertical-align: middle;\n",
       "    }\n",
       "\n",
       "    .dataframe tbody tr th {\n",
       "        vertical-align: top;\n",
       "    }\n",
       "\n",
       "    .dataframe thead th {\n",
       "        text-align: right;\n",
       "    }\n",
       "</style>\n",
       "<table border=\"1\" class=\"dataframe\">\n",
       "  <thead>\n",
       "    <tr style=\"text-align: right;\">\n",
       "      <th></th>\n",
       "      <th>Recency</th>\n",
       "      <th>Frequency</th>\n",
       "      <th>Amount</th>\n",
       "      <th>cluster</th>\n",
       "    </tr>\n",
       "  </thead>\n",
       "  <tbody>\n",
       "    <tr>\n",
       "      <th>0</th>\n",
       "      <td>325.0</td>\n",
       "      <td>1.0</td>\n",
       "      <td>3691.77</td>\n",
       "      <td>2</td>\n",
       "    </tr>\n",
       "    <tr>\n",
       "      <th>1</th>\n",
       "      <td>1.0</td>\n",
       "      <td>7.0</td>\n",
       "      <td>3691.77</td>\n",
       "      <td>0</td>\n",
       "    </tr>\n",
       "    <tr>\n",
       "      <th>2</th>\n",
       "      <td>74.0</td>\n",
       "      <td>4.0</td>\n",
       "      <td>1797.24</td>\n",
       "      <td>1</td>\n",
       "    </tr>\n",
       "    <tr>\n",
       "      <th>3</th>\n",
       "      <td>18.0</td>\n",
       "      <td>1.0</td>\n",
       "      <td>1757.55</td>\n",
       "      <td>1</td>\n",
       "    </tr>\n",
       "    <tr>\n",
       "      <th>4</th>\n",
       "      <td>309.0</td>\n",
       "      <td>1.0</td>\n",
       "      <td>334.40</td>\n",
       "      <td>2</td>\n",
       "    </tr>\n",
       "    <tr>\n",
       "      <th>...</th>\n",
       "      <td>...</td>\n",
       "      <td>...</td>\n",
       "      <td>...</td>\n",
       "      <td>...</td>\n",
       "    </tr>\n",
       "    <tr>\n",
       "      <th>4333</th>\n",
       "      <td>277.0</td>\n",
       "      <td>1.0</td>\n",
       "      <td>180.60</td>\n",
       "      <td>2</td>\n",
       "    </tr>\n",
       "    <tr>\n",
       "      <th>4334</th>\n",
       "      <td>180.0</td>\n",
       "      <td>1.0</td>\n",
       "      <td>80.82</td>\n",
       "      <td>2</td>\n",
       "    </tr>\n",
       "    <tr>\n",
       "      <th>4335</th>\n",
       "      <td>7.0</td>\n",
       "      <td>2.0</td>\n",
       "      <td>178.05</td>\n",
       "      <td>1</td>\n",
       "    </tr>\n",
       "    <tr>\n",
       "      <th>4336</th>\n",
       "      <td>3.0</td>\n",
       "      <td>11.0</td>\n",
       "      <td>2045.53</td>\n",
       "      <td>0</td>\n",
       "    </tr>\n",
       "    <tr>\n",
       "      <th>4337</th>\n",
       "      <td>42.0</td>\n",
       "      <td>3.0</td>\n",
       "      <td>1837.28</td>\n",
       "      <td>1</td>\n",
       "    </tr>\n",
       "  </tbody>\n",
       "</table>\n",
       "<p>4338 rows × 4 columns</p>\n",
       "</div>"
      ],
      "text/plain": [
       "      Recency  Frequency   Amount  cluster\n",
       "0       325.0        1.0  3691.77        2\n",
       "1         1.0        7.0  3691.77        0\n",
       "2        74.0        4.0  1797.24        1\n",
       "3        18.0        1.0  1757.55        1\n",
       "4       309.0        1.0   334.40        2\n",
       "...       ...        ...      ...      ...\n",
       "4333    277.0        1.0   180.60        2\n",
       "4334    180.0        1.0    80.82        2\n",
       "4335      7.0        2.0   178.05        1\n",
       "4336      3.0       11.0  2045.53        0\n",
       "4337     42.0        3.0  1837.28        1\n",
       "\n",
       "[4338 rows x 4 columns]"
      ]
     },
     "execution_count": 40,
     "metadata": {},
     "output_type": "execute_result"
    }
   ],
   "source": [
    "rfm_cluster"
   ]
  },
  {
   "cell_type": "markdown",
   "id": "e4477571",
   "metadata": {
    "papermill": {
     "duration": 0.025378,
     "end_time": "2023-11-28T07:26:21.206586",
     "exception": false,
     "start_time": "2023-11-28T07:26:21.181208",
     "status": "completed"
    },
    "tags": []
   },
   "source": [
    "### Visulising the clusters <a class=\"anchor\"  id=\"cluster\"></a>"
   ]
  },
  {
   "cell_type": "code",
   "execution_count": 41,
   "id": "bbd7fa33",
   "metadata": {
    "execution": {
     "iopub.execute_input": "2023-11-28T07:26:21.263023Z",
     "iopub.status.busy": "2023-11-28T07:26:21.262040Z",
     "iopub.status.idle": "2023-11-28T07:26:22.191293Z",
     "shell.execute_reply": "2023-11-28T07:26:22.189987Z"
    },
    "papermill": {
     "duration": 0.960982,
     "end_time": "2023-11-28T07:26:22.194578",
     "exception": false,
     "start_time": "2023-11-28T07:26:21.233596",
     "status": "completed"
    },
    "tags": []
   },
   "outputs": [
    {
     "data": {
      "text/plain": [
       "<Axes: xlabel='Recency', ylabel='Frequency'>"
      ]
     },
     "execution_count": 41,
     "metadata": {},
     "output_type": "execute_result"
    },
    {
     "data": {
      "image/png": "[encoded data removed]",
      "text/plain": [
       "<Figure size 640x480 with 1 Axes>"
      ]
     },
     "metadata": {},
     "output_type": "display_data"
    }
   ],
   "source": [
    "sns.scatterplot(data=rfm_cluster, x=\"Recency\", y=\"Frequency\",hue='cluster')"
   ]
  },
  {
   "cell_type": "markdown",
   "id": "ae89794d",
   "metadata": {
    "papermill": {
     "duration": 0.027066,
     "end_time": "2023-11-28T07:26:22.250007",
     "exception": false,
     "start_time": "2023-11-28T07:26:22.222941",
     "status": "completed"
    },
    "tags": []
   },
   "source": [
    "As revealed by the silhouette score and confirmed by the plot above, the clusters are not very clearly separated."
   ]
  },
  {
   "cell_type": "code",
   "execution_count": 42,
   "id": "d6c41ac3",
   "metadata": {
    "execution": {
     "iopub.execute_input": "2023-11-28T07:26:22.310109Z",
     "iopub.status.busy": "2023-11-28T07:26:22.308975Z",
     "iopub.status.idle": "2023-11-28T07:26:22.996256Z",
     "shell.execute_reply": "2023-11-28T07:26:22.994194Z"
    },
    "papermill": {
     "duration": 0.720263,
     "end_time": "2023-11-28T07:26:22.999526",
     "exception": false,
     "start_time": "2023-11-28T07:26:22.279263",
     "status": "completed"
    },
    "tags": []
   },
   "outputs": [
    {
     "data": {
      "image/png": "[encoded data removed]",
      "text/plain": [
       "<Figure size 640x480 with 1 Axes>"
      ]
     },
     "metadata": {},
     "output_type": "display_data"
    },
    {
     "data": {
      "image/png": "[encoded data removed]",
      "text/plain": [
       "<Figure size 640x480 with 1 Axes>"
      ]
     },
     "metadata": {},
     "output_type": "display_data"
    },
    {
     "data": {
      "image/png": "[encoded data removed]",
      "text/plain": [
       "<Figure size 640x480 with 1 Axes>"
      ]
     },
     "metadata": {},
     "output_type": "display_data"
    }
   ],
   "source": [
    "avg_df = rfm_cluster.groupby(['cluster'], as_index=False).mean()\n",
    "for i in list1:\n",
    "    sns.barplot(x='cluster',y=str(i),data=avg_df)\n",
    "    plt.show()"
   ]
  },
  {
   "cell_type": "markdown",
   "id": "32285f5c",
   "metadata": {
    "papermill": {
     "duration": 0.02995,
     "end_time": "2023-11-28T07:26:23.060915",
     "exception": false,
     "start_time": "2023-11-28T07:26:23.030965",
     "status": "completed"
    },
    "tags": []
   },
   "source": [
    "So based on the clustering it is evident that on the average, the customers belonging to cluster 2 have a good recency (have purchased with us in the last one month), great frequency and spend. Based on these details, we might want to target the loyalty points to these customers and provide them with early access to any kind of sales. \n",
    "\n",
    "Further we could also look into the purchasing timeline of the customers in different clusters, analyse what kind of products they like - decorative, stationary, food, decode what unitPrice of a product is more attractive to boost it's sales among different segments.  \n",
    "\n",
    "Thank you for reading!"
   ]
  }
 ],
 "metadata": {
  "kaggle": {
   "accelerator": "none",
   "dataSources": [
    {
     "datasetId": 1985,
     "sourceId": 3404,
     "sourceType": "datasetVersion"
    }
   ],
   "dockerImageVersionId": 30587,
   "isGpuEnabled": false,
   "isInternetEnabled": true,
   "language": "python",
   "sourceType": "notebook"
  },
  "kernelspec": {
   "display_name": "Python 3",
   "language": "python",
   "name": "python3"
  },
  "language_info": {
   "codemirror_mode": {
    "name": "ipython",
    "version": 3
   },
   "file_extension": ".py",
   "mimetype": "text/x-python",
   "name": "python",
   "nbconvert_exporter": "python",
   "pygments_lexer": "ipython3",
   "version": "3.10.12"
  },
  "papermill": {
   "default_parameters": {},
   "duration": 29.237324,
   "end_time": "2023-11-28T07:26:24.218766",
   "environment_variables": {},
   "exception": null,
   "input_path": "__notebook__.ipynb",
   "output_path": "__notebook__.ipynb",
   "parameters": {},
   "start_time": "2023-11-28T07:25:54.981442",
   "version": "2.4.0"
  }
 },
 "nbformat": 4,
 "nbformat_minor": 5
}
